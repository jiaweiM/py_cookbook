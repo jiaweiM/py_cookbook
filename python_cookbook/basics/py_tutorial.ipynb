{
 "cells": [
  {
   "cell_type": "markdown",
   "metadata": {
    "collapsed": true
   },
   "source": [
    "# Python 常用函数\n",
    "\n",
    "- [https://www.zhihu.com/question/29138020](https://www.zhihu.com/question/29138020)\n",
    "- [https://www.zhihu.com/topic/19552832](https://www.zhihu.com/topic/19552832)\n",
    "- [https://taizilongxu.gitbooks.io/stackoverflow-about-python/content/](https://taizilongxu.gitbooks.io/stackoverflow-about-python/content/)\n"
   ]
  },
  {
   "cell_type": "markdown",
   "metadata": {
    "collapsed": true
   },
   "source": [
    "## `zip(a,b)`\n",
    "\n",
    "生成一个返回元祖(x,y)的迭代器，其中x来自a，y来自b。一旦其中某个序列到结尾，迭代结束，因此迭代长度和参数中最短的序列长度一致。"
   ]
  },
  {
   "cell_type": "code",
   "execution_count": 1,
   "metadata": {},
   "outputs": [],
   "source": [
    "count = 0\n",
    "a = [1, 2, 3]\n",
    "b = ['w', 'x', 'y', 'z']\n",
    "for i in zip(a, b):\n",
    "    count += 1\n",
    "assert count == 3"
   ]
  },
  {
   "cell_type": "code",
   "execution_count": 2,
   "metadata": {},
   "outputs": [
    {
     "name": "stdout",
     "output_type": "stream",
     "text": [
      "1 101\n",
      "5 78\n",
      "4 37\n",
      "2 15\n",
      "10 62\n",
      "7 99\n"
     ]
    }
   ],
   "source": [
    "xpts = [1, 5, 4, 2, 10, 7]\n",
    "ypts = [101, 78, 37, 15, 62, 99]\n",
    "for x, y in zip(xpts, ypts):\n",
    "    print(x, y)"
   ]
  },
  {
   "cell_type": "markdown",
   "metadata": {},
   "source": [
    "# Variables\n",
    "A variable holds a value."
   ]
  },
  {
   "cell_type": "code",
   "execution_count": null,
   "metadata": {},
   "outputs": [],
   "source": [
    "def determine_direction(message):\n",
    "    if message == 'TAKEN THE ROAD LESS TRAVELLED':\n",
    "        print('Turn Left')\n",
    "    elif message == 'CONFORT IS DIVINE':\n",
    "        print(\"Turn Right\")\n",
    "    else:\n",
    "        print(\"I don't known\")\n",
    "determine_direction(\"TAKE THE ROAD LESS TRAVELLED\")"
   ]
  }
 ],
 "metadata": {
  "kernelspec": {
   "display_name": "Python 3",
   "language": "python",
   "name": "python3"
  },
  "language_info": {
   "codemirror_mode": {
    "name": "ipython",
    "version": 3
   },
   "file_extension": ".py",
   "mimetype": "text/x-python",
   "name": "python",
   "nbconvert_exporter": "python",
   "pygments_lexer": "ipython3",
   "version": "3.6.5"
  }
 },
 "nbformat": 4,
 "nbformat_minor": 1
}
