{
 "cells": [
  {
   "cell_type": "markdown",
   "metadata": {
    "collapsed": true
   },
   "source": [
    "在提取成对谱图后，生成两个极度相似的轻重标谱图，它们只是在配对谱峰的强度上有差异。"
   ]
  },
  {
   "cell_type": "code",
   "execution_count": 1,
   "metadata": {},
   "outputs": [],
   "source": [
    "import pandas as pd\n",
    "import matplotlib.pyplot as plt\n",
    "import matplotlib\n",
    "\n",
    "\n",
    "filexx = r\"G:\\methyl\\20151217\\raw\\mzML\\mgfs\\\\pairs_xx.xlsx\"\n",
    "file1x = r\"G:\\methyl\\20151217\\raw\\mzML\\mgfs\\\\pairs_1x.xlsx\"\n",
    "file11 = r\"G:\\methyl\\20151217\\raw\\mzML\\mgfs\\\\pairs_11.xlsx\""
   ]
  },
  {
   "cell_type": "code",
   "execution_count": 2,
   "metadata": {},
   "outputs": [],
   "source": [
    "def read_data(fileLoc):\n",
    "    data = {}\n",
    "    with pd.ExcelFile(fileLoc) as xlsx:\n",
    "        data['intersect-target'] = pd.read_excel(xlsx, 'intersect-target', parse_cols=[5, 10])\n",
    "        data['intersect-decoy'] = pd.read_excel(xlsx, 'intersect-decoy', parse_cols=[5, 10])\n",
    "    data['intersect-target'].columns = ['Light Peptide Score', 'Heavy Peptide Score']\n",
    "    data['intersect-decoy'].columns = ['Light Peptide Score', 'Heavy Peptide Score']\n",
    "    return data"
   ]
  },
  {
   "cell_type": "code",
   "execution_count": 11,
   "metadata": {},
   "outputs": [],
   "source": [
    "def create_graph(fileLoc, out):\n",
    "    data = read_data(fileLoc)\n",
    "\n",
    "    fig, axes = plt.subplots(figsize=(10, 8), dpi=300)\n",
    "\n",
    "    axes.scatter(data['intersect-target'][\"Light Peptide Score\"],\n",
    "                 data['intersect-target'][\"Heavy Peptide Score\"],\n",
    "                 s=8,\n",
    "                 alpha=0.5)\n",
    "    axes.scatter(data['intersect-decoy'][\"Light Peptide Score\"],\n",
    "                 data['intersect-decoy'][\"Heavy Peptide Score\"],\n",
    "                 s=8,\n",
    "                 alpha=0.5)\n",
    "\n",
    "    axes.set_xlabel('Light Peptide Score', fontsize=18)\n",
    "    axes.set_ylabel('Heavy Peptide Score', fontsize=18)\n",
    "    for tick in axes.yaxis.get_major_ticks():\n",
    "        \n",
    "    \n",
    "    axes.x\n",
    "    fig.savefig(out)"
   ]
  },
  {
   "cell_type": "code",
   "execution_count": 12,
   "metadata": {
    "collapsed": true
   },
   "outputs": [],
   "source": [
    "create_graph(file1x, \"ax.png\")\n",
    "create_graph(file11, \"aa.png\")\n",
    "create_graph(filexx, \"xx.png\")"
   ]
  },
  {
   "cell_type": "code",
   "execution_count": 33,
   "metadata": {},
   "outputs": [],
   "source": [
    "import seaborn as sns\n",
    "def create_graph_seaborn(file):\n",
    "    data = read_data(file)\n",
    "    plt.figure(figsize=(10, 8), dpi=300)\n",
    "    \n",
    "    sns.lmplot(x='Light Peptide Score', y=\"Heavy Peptide Score\", data=data['intersect-target'], fit_reg=False)\n",
    "    sns.lmplot(x='Light Peptide Score', y=\"Heavy Peptide Score\", data=data['intersect-decoy'], fit_reg=False)"
   ]
  }
 ],
 "metadata": {
  "kernelspec": {
   "display_name": "Python 2",
   "language": "python",
   "name": "python2"
  },
  "language_info": {
   "codemirror_mode": {
    "name": "ipython",
    "version": 2.0
   },
   "file_extension": ".py",
   "mimetype": "text/x-python",
   "name": "python",
   "nbconvert_exporter": "python",
   "pygments_lexer": "ipython2",
   "version": "2.7.6"
  }
 },
 "nbformat": 4,
 "nbformat_minor": 0
}