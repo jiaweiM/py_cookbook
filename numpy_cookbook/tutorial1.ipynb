{
 "cells": [
  {
   "cell_type": "markdown",
   "metadata": {
    "collapsed": true
   },
   "source": [
    "# NumPy 教程\n",
    "\n",
    "NumPy 的核心是多维数组，具有快速、方便、内存占用低等优点，在数据处理领域的应用太不能再广泛了。"
   ]
  },
  {
   "cell_type": "markdown",
   "metadata": {},
   "source": [
    "## 1. 快速参考"
   ]
  },
  {
   "cell_type": "markdown",
   "metadata": {},
   "source": [
    "### 1.1 基本概念\n",
    "- 数组的维度称为 axes\n",
    "- axes 的数值称为 rank\n",
    "- NumPy 内部以 **`ndarray`** 对象表示数组\n",
    "\n"
   ]
  },
  {
   "cell_type": "markdown",
   "metadata": {},
   "source": [
    "### 1.2 ndarray 属性\n",
    "\n",
    "\n",
    "|属性|说明|\n",
    "|----|----|\n",
    "|ndarray.ndim|数组的维度，即 rank 值|\n",
    "\n",
    "\n"
   ]
  },
  {
   "cell_type": "code",
   "execution_count": null,
   "metadata": {},
   "outputs": [],
   "source": [
    ""
   ]
  },
  {
   "cell_type": "code",
   "execution_count": null,
   "metadata": {},
   "outputs": [],
   "source": [
    ""
   ]
  },
  {
   "cell_type": "markdown",
   "metadata": {},
   "source": [
    "# 参考资料\n",
    "- http://www.labri.fr/perso/nrougier/teaching/numpy/numpy.html\n",
    "- https://github.com/jrjohansson/scientific-python-lectures\n",
    "- https://docs.scipy.org/doc/numpy/reference/\n",
    "- [https://docs.scipy.org/doc/numpy-dev/user/quickstart.html](https://docs.scipy.org/doc/numpy-dev/user/quickstart.html)"
   ]
  }
 ],
 "metadata": {
  "kernelspec": {
   "display_name": "Python 2",
   "language": "python",
   "name": "python2"
  },
  "language_info": {
   "codemirror_mode": {
    "name": "ipython",
    "version": 2
   },
   "file_extension": ".py",
   "mimetype": "text/x-python",
   "name": "python",
   "nbconvert_exporter": "python",
   "pygments_lexer": "ipython2",
   "version": "2.7.6"
  }
 },
 "nbformat": 4,
 "nbformat_minor": 0
}
